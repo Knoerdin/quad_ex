{
 "cells": [
  {
   "cell_type": "code",
   "execution_count": 24,
   "id": "8ae8a038",
   "metadata": {},
   "outputs": [],
   "source": [
    "import mujoco\n",
    "from mujoco import MjModel, MjData\n",
    "from mujoco.viewer import launch_passive\n",
    "from mujoco import viewer\n",
    "import time\n",
    "\n",
    "model = mujoco.MjModel.from_xml_path(\"tesbot.urdf\")\n",
    "data = mujoco.MjData(model)"
   ]
  },
  {
   "cell_type": "code",
   "execution_count": 25,
   "id": "97f49a20",
   "metadata": {},
   "outputs": [],
   "source": [
    "with viewer.launch_passive(model, data) as viewer:\n",
    "    for _ in range(100):\n",
    "        mujoco.mj_step(model, data)\n",
    "        viewer.sync()  # Ensure the viewer updates each frame\n",
    "        time.sleep(model.opt.timestep)  # Real-time step duration\n",
    "        "
   ]
  }
 ],
 "metadata": {
  "kernelspec": {
   "display_name": "Python 3",
   "language": "python",
   "name": "python3"
  },
  "language_info": {
   "codemirror_mode": {
    "name": "ipython",
    "version": 3
   },
   "file_extension": ".py",
   "mimetype": "text/x-python",
   "name": "python",
   "nbconvert_exporter": "python",
   "pygments_lexer": "ipython3",
   "version": "3.11.9"
  }
 },
 "nbformat": 4,
 "nbformat_minor": 5
}
