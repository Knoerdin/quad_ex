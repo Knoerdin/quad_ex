{
 "cells": [
  {
   "cell_type": "code",
   "execution_count": 30,
   "id": "8ae8a038",
   "metadata": {},
   "outputs": [],
   "source": [
    "import mujoco\n",
    "from mujoco import MjModel, MjData\n",
    "from mujoco.viewer import launch_passive\n",
    "from mujoco import viewer\n",
    "import time\n",
    "\n",
    "model = mujoco.MjModel.from_xml_path(\"tesbot.urdf\")\n",
    "data = mujoco.MjData(model)"
   ]
  },
  {
   "cell_type": "code",
   "execution_count": 31,
   "id": "97f49a20",
   "metadata": {},
   "outputs": [],
   "source": [
    "with viewer.launch_passive(model, data) as viewer:\n",
    "    for _ in range(100):\n",
    "        mujoco.mj_step(model, data)\n",
    "        viewer.sync()  # Ensure the viewer updates each frame\n",
    "        time.sleep(model.opt.timestep)  # Real-time step duration\n",
    "        "
   ]
  },
  {
   "cell_type": "code",
   "execution_count": 39,
   "id": "9a19cef1",
   "metadata": {},
   "outputs": [
    {
     "data": {
      "text/plain": [
       "(array([0., 0., 0., 0., 0., 0., 0., 0., 0., 0., 0., 0., 0., 0., 0., 0.]), {})"
      ]
     },
     "execution_count": 39,
     "metadata": {},
     "output_type": "execute_result"
    }
   ],
   "source": [
    "import os\n",
    "import numpy as np\n",
    "import gymnasium as gym\n",
    "from gymnasium import spaces\n",
    "import mujoco\n",
    "\n",
    "\n",
    "class QuadrupedEnv(gym.Env):\n",
    "    metadata = {\"render_modes\": [\"human\"], \"render_fps\": 60}\n",
    "\n",
    "    def __init__(self, render_mode=None):\n",
    "        super().__init__()\n",
    "        \n",
    "        # Load the URDF model\n",
    "        model_path = \"tesbot.urdf\"\n",
    "        if not os.path.exists(model_path):\n",
    "            raise FileNotFoundError(f\"Missing URDF: {model_path}\")\n",
    "\n",
    "        # Convert URDF to MJCF model\n",
    "        self.model = mujoco.MjModel.from_xml_path(model_path)\n",
    "        self.data = mujoco.MjData(self.model)\n",
    "\n",
    "        # Action and observation space (8 joints)\n",
    "        self.n_actuators = self.model.nu\n",
    "        self.action_space = spaces.Box(low=-1.0, high=1.0, shape=(self.n_actuators,), dtype=np.float32)\n",
    "\n",
    "        obs_size = self.model.nq + self.model.nv\n",
    "        self.observation_space = spaces.Box(low=-np.inf, high=np.inf, shape=(obs_size,), dtype=np.float32)\n",
    "\n",
    "        self.render_mode = render_mode\n",
    "        self.viewer = None\n",
    "\n",
    "    def reset(self, seed=None, options=None):\n",
    "        super().reset(seed=seed)\n",
    "\n",
    "        # Reset state\n",
    "        self.data.qpos[:] = 0\n",
    "        self.data.qvel[:] = 0\n",
    "        mujoco.mj_forward(self.model, self.data)\n",
    "\n",
    "        observation = self._get_obs()\n",
    "        return observation, {}\n",
    "\n",
    "    def step(self, action):\n",
    "        # Clip to action limits\n",
    "        action = np.clip(action, self.action_space.low, self.action_space.high)\n",
    "        self.data.ctrl[:] = action\n",
    "\n",
    "        mujoco.mj_step(self.model, self.data)\n",
    "\n",
    "        obs = self._get_obs()\n",
    "\n",
    "        # Basic reward for staying upright\n",
    "        reward = 1.0 if self.data.qpos[2] > 0.05 else 0.0\n",
    "        terminated = False\n",
    "        truncated = False\n",
    "\n",
    "        return obs, reward, terminated, truncated, {}\n",
    "\n",
    "    def _get_obs(self):\n",
    "        return np.concatenate([self.data.qpos, self.data.qvel]).copy()\n",
    "\n",
    "    def render(self):\n",
    "        if self.render_mode == \"human\":\n",
    "            if self.viewer is None:\n",
    "                self.viewer = mujoco.viewer.launch_passive(self.model, self.data)\n",
    "            self.viewer.sync()\n",
    "\n",
    "    def close(self):\n",
    "        if self.viewer:\n",
    "            self.viewer.close()\n",
    "            self.viewer = None\n",
    "env = QuadrupedEnv(render_mode=\"human\")\n",
    "env.reset()"
   ]
  }
 ],
 "metadata": {
  "kernelspec": {
   "display_name": "Python 3",
   "language": "python",
   "name": "python3"
  },
  "language_info": {
   "codemirror_mode": {
    "name": "ipython",
    "version": 3
   },
   "file_extension": ".py",
   "mimetype": "text/x-python",
   "name": "python",
   "nbconvert_exporter": "python",
   "pygments_lexer": "ipython3",
   "version": "3.11.9"
  }
 },
 "nbformat": 4,
 "nbformat_minor": 5
}
